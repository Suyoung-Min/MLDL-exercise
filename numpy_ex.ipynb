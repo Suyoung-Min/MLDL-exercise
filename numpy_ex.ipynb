import numpy as np

arr1 = np.array([1,2,3])
print('arr1 type:',type(arr1))
print('arr1 array 형태:',arr1.shape)

arr2 = np.array([[1,2,3],
                 [2,3,4]])
print('arr2 type:',type(arr2))
print('arr2 형태:',arr2.shape)

arr3 = np.array([[1,2,3]])
print('arr3 type:',type(arr3))
print('arr3 형태:',arr3.shape)

arr_int = np.array([1,2,3])
arr_float = arr_int.astype('float64')

print(arr_float,arr_float.dtype)

arr_int = arr_float.astype('int32')
print(arr_int,arr_int.dtype)
