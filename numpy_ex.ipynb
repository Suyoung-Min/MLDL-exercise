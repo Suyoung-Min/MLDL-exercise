import numpy as np

"""
arr = np.array(list1)

arr.shape
arr.dtype
arr.ndim

arr2 = arr.astype('int32') or 'int64', 'float64' ....

arr=np.arange(10)
arr=np.zeros((3,2),'int32') (row,column)
arr=np.ones((3,2),'int32')  # default dtype is float64
arr=arr2.reshape(2,5) # change dimension

arr=arr2.reshpae(-1,5) # auto shape
arr=arr2.reshape(5,-1)
"""
arr1 = np.array([1,2,3])
print('arr1 type:',type(arr1))
print('arr1 array 형태:',arr1.shape)

arr2 = np.array([[1,2,3],
                 [2,3,4]])
print('arr2 type:',type(arr2))
print('arr2 형태:',arr2.shape)

arr3 = np.array([[1,2,3]])
print('arr3 type:',type(arr3))
print('arr3 형태:',arr3.shape)

arr1 = np.arange(10)
print(arr1)
arr2 = arr1.reshape(-1,5)
print('arr2:\n',arr2)
arr3 = arr1.reshape(5,-1)
print('arr3:\n',arr3)

print(arr2.reshape(-1,1))

arr1 = np.arange(8)
arr3d = arr1.reshape((2,2,2))
print('arr3d:\n',arr3d.tolist())

arr5 = arr3d.reshape(-1,1)
print('arr5:\n',arr5.tolist())
print(arr5.ndim,arr5.shape)

arr6 = arr1.reshape(-1,1)
print('arr6:\n',arr6.tolist())
print(arr6.ndim,arr6.shape)
